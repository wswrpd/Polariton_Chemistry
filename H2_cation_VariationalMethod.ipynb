{
 "cells": [
  {
   "cell_type": "markdown",
   "metadata": {},
   "source": [
    "# Quantum Chemistry:\n",
    "## Study $H^+_2$ Molecule using Variational Principle\n",
    "\n",
    "Author's infomation: \n",
    "\n",
    "* Siwei Wang @ IAMS-Sinica, Taipei\n",
    "* Email: wswrpd@gate.sinica.edu.tw"
   ]
  },
  {
   "cell_type": "markdown",
   "metadata": {},
   "source": [
    "## Why we consider using Tunable Wavefunction Ansatz?\n",
    "When the distance between the two proton (hydrogen cation) approach zero, $D\\rightarrow 0$, the hydrogen cation $H_2^+$ becomes helium cation $\\mathrm{He}^+$ and its ground state wavefunction is\n",
    "\\begin{align}\n",
    "    \\varphi^\\mathrm{He}_{1s} = \\sqrt{\\frac{2^3}{\\pi}}\\mathrm{exp}\\left(-2|\\bar{\n",
    "    {r}}|\\right)\n",
    "\\end{align}\n",
    "Comparing with the ground state of the hydrogen atom\n",
    "\\begin{align}\n",
    "\\varphi^\\mathrm{H}_\\mathrm{1s} = \\frac{1}{\\sqrt{\\pi}}\\mathrm{exp}(-|{{\\bar{r}}}|)\n",
    "\\end{align}\n",
    "We guess for the hydrogen cation molecule, the molecular orbital can be constructed by the trial wavefunction,\n",
    "\\begin{align}\n",
    "\\Psi(\\mathbf{\\bar{r}}) = C_\\mathrm{A}\\varphi^\\mathrm{A}_\\mathrm{1s}(\\mathbf{\\bar{r}};Z)+C_\\mathrm{B}\\varphi^\\mathrm{B}_\\mathrm{1s}(\\mathbf{\\bar{r}};Z)\n",
    "\\end{align}\n",
    "where \n",
    "\\begin{align}\n",
    "\\varphi^\\mathrm{A(B)}_\\mathrm{1s}(\\mathbf{\\bar{r}};Z) = \\sqrt{\\frac{{Z^3}}{{\\pi}}}\\mathrm{exp}(-Z{\\left|\\mathbf{\\bar{r}}-\\mathbf{\\bar{R}}_\\mathrm{A(B)}\\right|})\n",
    "\\end{align}\n",
    "Furthermore, we expect $1<Z<2$, and it is the eigenstate of the following Schrodinger equation \n",
    "\\begin{align}\n",
    "\\left(-\\frac{\\partial^2}{\\partial \\mathbf{\\bar{r}}^2} - \\frac{2Z}{\\left|\\mathbf{\\bar{r}}-\\mathbf{\\bar{R}}_\\mathrm{A}\\right|}  \\right) \\varphi^\\mathrm{A}_\\mathrm{1s}(\\mathbf{\\bar{r}};Z) = \\bar{E}_\\mathrm{1s}(Z)\\varphi^\\mathrm{A}_\\mathrm{1s}(\\mathbf{\\bar{r}};Z)\n",
    "\\end{align}\n",
    "where \n",
    "\\begin{align}\n",
    "    \\bar{E}_\\mathrm{1s}(Z)=-\\frac{Z^2}{1^2}\n",
    "\\end{align}"
   ]
  },
  {
   "cell_type": "markdown",
   "metadata": {},
   "source": [
    "### Linear Combination of Atomic Orbitals (LCAO) of  $H^+_2$ Molecule in This Basis Set\n",
    "The Schr$\\ddot{\\mathrm{o}}$dinger equation of $H^+_2$ becomes\n",
    "\\begin{align}\n",
    "\\hat{\\bar{H}}_\\mathrm{ele} \\left( C_\\mathrm{A}\\varphi^\\mathrm{A}_\\mathrm{1s}(\\mathbf{\\bar{r}};Z)+C_\\mathrm{B}\\varphi^\\mathrm{B}_\\mathrm{1s}(\\mathbf{\\bar{r}};Z) \\right) = \\bar{E} \\left( C_\\mathrm{A}\\varphi^\\mathrm{A}_\\mathrm{1s}(\\mathbf{\\bar{r}};Z)+C_\\mathrm{B}\\varphi^\\mathrm{B}_\\mathrm{1s}(\\mathbf{\\bar{r}};Z) \\right)\n",
    "\\end{align}\n",
    "\n",
    "By multiplying $\\varphi^\\mathrm{A*}_\\mathrm{1s}(\\mathbf{\\bar{r}};Z)$ on both side of the equation and integrate over the whole space, we obtain\n",
    "\\begin{align}\n",
    "\\int d^3\\mathbf{\\bar{r}} \\left(C_\\mathrm{A} \\varphi^\\mathrm{A*}_\\mathrm{1s}(\\mathbf{\\bar{r}};Z) \\hat{\\bar{H}}_\\mathrm{ele}  \\varphi^\\mathrm{A}_\\mathrm{1s}(\\mathbf{\\bar{r}};Z)+ C_\\mathrm{B} \\varphi^\\mathrm{A*}_\\mathrm{1s}(\\mathbf{\\bar{r}};Z)\\hat{\\bar{H}}_\\mathrm{ele}  \\varphi^\\mathrm{B}_\\mathrm{1s} (\\mathbf{\\bar{r}};Z) \\right) = \\int d^3\\mathbf{\\bar{r}}  \\bar{E}\\left( C_\\mathrm{A} \\varphi^\\mathrm{A*}_\\mathrm{1s}(\\mathbf{\\bar{r}};Z)\\varphi^\\mathrm{A}_\\mathrm{1s}(\\mathbf{\\bar{r}};Z)+C_\\mathrm{B}\\varphi^\\mathrm{A*}_\\mathrm{1s}(\\mathbf{\\bar{r}};Z)\\varphi^\\mathrm{B}_\\mathrm{1s}(\\mathbf{\\bar{r}};Z) \\right)\n",
    "\\end{align}\n",
    "By multiplying $\\varphi^\\mathrm{B*}_\\mathrm{1s}(\\mathbf{\\bar{r}};Z)$ on both side of the equation and integrate over the whole space, we obtain\n",
    "\\begin{align}\n",
    "\\int d^3\\mathbf{\\bar{r}} \\left(C_\\mathrm{A} \\varphi^\\mathrm{B*}_\\mathrm{1s}(\\mathbf{\\bar{r}};Z) \\hat{\\bar{H}}_\\mathrm{ele}  \\varphi^\\mathrm{A}_\\mathrm{1s}(\\mathbf{\\bar{r}};Z)+ C_\\mathrm{B} \\varphi^\\mathrm{B*}_\\mathrm{1s}(\\mathbf{\\bar{r}};Z)\\hat{\\bar{H}}_\\mathrm{ele}  \\varphi^\\mathrm{B}_\\mathrm{1s} (\\mathbf{\\bar{r}};Z) \\right) = \\int d^3\\mathbf{\\bar{r}}  \\bar{E}\\left( C_\\mathrm{A} \\varphi^\\mathrm{B*}_\\mathrm{1s}(\\mathbf{\\bar{r}};Z)\\varphi^\\mathrm{A}_\\mathrm{1s}(\\mathbf{\\bar{r}};Z)+C_\\mathrm{B}\\varphi^\\mathrm{B*}_\\mathrm{1s}(\\mathbf{\\bar{r}};Z)\\varphi^\\mathrm{B}_\\mathrm{1s}(\\mathbf{\\bar{r}};Z) \\right)\n",
    "\\end{align}\n",
    "\n",
    "Since the ground state trial wavefunction $\\varphi^\\mathrm{A(B)}_\\mathrm{1s}(\\mathbf{\\bar{r}};Z)$ are normalized wavefunction, $\\int d^3\\mathbf{\\bar{r}}\\varphi^\\mathrm{A(B)*}_\\mathrm{1s}(\\mathbf{\\bar{r}};Z)\\varphi^\\mathrm{A(B)}_\\mathrm{1s}(\\mathbf{\\bar{r}};Z) = 1$. We further define a few symbols to simplify the notation,\n",
    "\\begin{align}\n",
    "    \\mathcal{U}(Z) &= \\int d^3\\mathbf{\\bar{r}} \\varphi^\\mathrm{A*}_\\mathrm{1s}(\\mathbf{\\bar{r}};Z) \\hat{\\bar{H}}_\\mathrm{ele}  \\varphi^\\mathrm{A}_\\mathrm{1s}(\\mathbf{\\bar{r}};Z) =  \\int d^3\\mathbf{\\bar{r}} \\varphi^\\mathrm{B*}_\\mathrm{1s}(\\mathbf{\\bar{r}};Z) \\hat{\\bar{H}}_\\mathrm{ele}  \\varphi^\\mathrm{B}_\\mathrm{1s}(\\mathbf{\\bar{r}};Z) \\\\\n",
    "    \\mathcal{\\beta}(Z) &= \\int d^3\\mathbf{\\bar{r}} \\varphi^\\mathrm{A*}_\\mathrm{1s}(\\mathbf{\\bar{r}};Z)\\hat{\\bar{H}}_\\mathrm{ele}  \\varphi^\\mathrm{B}_\\mathrm{1s}(\\mathbf{\\bar{r}};Z) = \\int d^3\\mathbf{\\bar{r}} \\varphi^\\mathrm{B*}_\\mathrm{1s}(\\mathbf{\\bar{r}};Z) \\hat{\\bar{H}}_\\mathrm{ele}  \\varphi^\\mathrm{A}_\\mathrm{1s}(\\mathbf{\\bar{r}};Z) \\\\\n",
    "    \\mathcal{S}(Z) &= \\int d^3\\mathbf{\\bar{r}} \\varphi^\\mathrm{A*}_\\mathrm{1s}(\\mathbf{\\bar{r}};Z)\\varphi^\\mathrm{B}_\\mathrm{1s}(\\mathbf{\\bar{r}};Z) = \\int d^3\\mathbf{\\bar{r}} \\varphi^\\mathrm{B*}_\\mathrm{1s}(\\mathbf{\\bar{r}};Z) \\varphi^\\mathrm{A}_\\mathrm{1s}(\\mathbf{\\bar{r}};Z)\n",
    "\\end{align}\n",
    "the identity of $\\mathcal{U}(Z)$, $\\mathcal{\\beta}(Z)$ and $\\mathcal{S}(Z)$ is because the two nuclei are the same.  Therefore, we can express the Schr$\\ddot{\\mathrm{o}}$dinger equation like,\n",
    "\\begin{align}\n",
    "\\begin{pmatrix}\n",
    "\\mathcal{U}(Z) & \\mathcal{\\beta}(Z) \\\\\n",
    "\\mathcal{\\beta}(Z)  & \\mathcal{U}(Z) \\\\\n",
    "\\end{pmatrix}\n",
    "\\begin{pmatrix}\n",
    "C_\\mathrm{A} \\\\\n",
    "C_\\mathrm{B} \\\\\n",
    "\\end{pmatrix}\n",
    "=\\bar{E}\\begin{pmatrix}\n",
    "1 & \\mathcal{S}(Z) \\\\\n",
    "\\mathcal{S}(Z) & 1 \\\\\n",
    "\\end{pmatrix}\n",
    "\\begin{pmatrix}\n",
    "C_\\mathrm{A} \\\\\n",
    "C_\\mathrm{B} \\\\\n",
    "\\end{pmatrix}\n",
    "\\end{align}\n",
    "\n",
    "Clearly, this is an eigenvalue problem, and we can solve it if we now the value of $\\mathcal{U}(Z)$, $ \\mathcal{\\beta}(Z)$ and $\\mathcal{S}(Z)$."
   ]
  },
  {
   "cell_type": "markdown",
   "metadata": {},
   "source": [
    "### Evaluation of $\\mathcal{U}(Z)$, $ \\mathcal{\\beta}(Z)$ and $\\mathcal{S}(Z)$.\n",
    "We first evaluate $\\mathcal{S}(Z)$\n",
    "\\begin{align}\n",
    "  \\mathcal{S}(Z) &= \\int d^3\\mathbf{\\bar{r}} \\varphi^\\mathrm{A*}_\\mathrm{1s}(\\mathbf{\\bar{r}};Z)  \\varphi^\\mathrm{B}_\\mathrm{1s}(\\mathbf{\\bar{r}};Z) = \\int d^3\\mathbf{\\bar{r}}  \\frac{\\sqrt{Z^3}}{\\sqrt{\\pi }}\\mathrm{exp}(-Z{\\left|\\mathbf{\\bar{r}}-\\mathbf{\\bar{R}}_\\mathrm{A}\\right|})  \\frac{\\sqrt{Z^3}}{\\sqrt{\\pi }}\\mathrm{exp}(-Z{\\left|\\mathbf{\\bar{r}}-\\mathbf{\\bar{R}}_\\mathrm{B}\\right|})\n",
    "\\end{align}\n",
    "\n",
    "Without loss of generality, we set $\\mathbf{\\bar{R}}_\\mathrm{A}=(0,0,-D/2)$ and $\\mathbf{\\bar{R}}_\\mathrm{B}=(0,0,D/2)$, \n",
    "\\begin{align}\n",
    "  \\mathcal{S} &= \\int d^3\\mathbf{\\bar{r}}  \\frac{Z^3}{{\\pi}}\\mathrm{exp}(-Z{\\left|\\mathbf{\\bar{r}}-\\mathbf{\\bar{R}}_\\mathrm{A}\\right|})  \\mathrm{exp}(-Z{\\left|\\mathbf{\\bar{r}}-\\mathbf{\\bar{R}}_\\mathrm{B}\\right|})\\\\\n",
    "  &= \\int d^3\\mathbf{\\bar{r}}  \\frac{Z^3}{{\\pi }}\\mathrm{exp}(-{Zr_\\mathrm{A}-Zr_\\mathrm{B} })  \n",
    "\\end{align}\n",
    "where $r_\\mathrm{A}=\\left|\\mathbf{\\bar{r}}-\\mathbf{\\bar{R}}_\\mathrm{A}\\right|$, and $r_\\mathrm{B}=\\left|\\mathbf{\\bar{r}}-\\mathbf{\\bar{R}}_\\mathrm{B}\\right|$.  We then use the confocal elliptic coordinates, $\\zeta=(r_\\mathrm{A}+r_\\mathrm{B})/D$, $\\eta=(r_\\mathrm{A}-r_\\mathrm{B})/D$, so that $1 \\le \\zeta \\le \\infty$, $-1 \\le \\eta \\le 1$, $0 \\le \\phi \\le 2\\pi$ and the volume element in spheroidal coordinates turns out to be $ d^3\\mathbf{\\bar{r}}=\\frac{D^3}{8}\\left(\\zeta^2-\\eta^2\\right)d\\zeta d\\eta d\\phi$\n",
    "\\begin{align}\n",
    "  \\mathcal{S}(Z) &=  \\int_{-1}^1 d\\eta \\int_1^\\infty d\\zeta \\int_0^{2\\pi} d\\phi  \\frac{D^3}{8}\\left(\\zeta^2-\\eta^2\\right)  \\frac{Z^3}{{\\pi }}\\mathrm{exp}(-{ ZD\\zeta })  \\\\\n",
    "  &=\\mathrm{exp}\\left({-{D}Z}\\right)\\left(1+{D}Z+\\frac{D^2Z^2}{3}\\right)\n",
    "\\end{align}\n",
    "\n",
    "Then, we evaluate $\\mathcal{U}(Z)$\n",
    "\\begin{align}\n",
    " \\mathcal{U}(Z) &= \\int d^3\\mathbf{\\bar{r}} \\varphi^\\mathrm{A*}_\\mathrm{1s}(\\mathbf{\\bar{r}};Z) \\hat{\\bar{H}}_\\mathrm{ele}  \\varphi^\\mathrm{A}_\\mathrm{1s}(\\mathbf{\\bar{r}};Z) = \\int d^3\\mathbf{\\bar{r}} \\varphi^\\mathrm{A*}_\\mathrm{1s}(\\mathbf{\\bar{r}};Z)   \\left(-\\frac{\\partial^2}{\\partial \\mathbf{\\bar{r}}^2} - \\frac{2Z}{\\left|\\mathbf{\\bar{r}}-\\mathbf{\\bar{R}}_\\mathrm{A}\\right|}- \\frac{2(1-Z)}{\\left|\\mathbf{\\bar{r}}-\\mathbf{\\bar{R}}_\\mathrm{A}\\right|} -\\frac{2}{\\left|\\mathbf{\\bar{r}}-\\mathbf{\\bar{R}}_\\mathrm{B}\\right|}  +\\frac{2}{\\left|{\\mathbf{\\bar{R}}_\\mathrm{A}-\\mathbf{\\bar{R}}_\\mathrm{B}}\\right|}  \\right) \\varphi^\\mathrm{A}_\\mathrm{1s}(\\mathbf{\\bar{r}};Z) \\\\\n",
    " &= \\left( \\bar{E}_\\mathrm{1s}(Z) + \\frac{2}{D} \\right) +  \\int d^3\\mathbf{\\bar{r}} \\varphi^\\mathrm{A*}_\\mathrm{1s}(\\mathbf{\\bar{r}};Z)   \\left(- \\frac{2(1-Z)}{\\left|\\mathbf{\\bar{r}}-\\mathbf{\\bar{R}}_\\mathrm{A}\\right|} -\\frac{2}{\\left|\\mathbf{\\bar{r}}-\\mathbf{\\bar{R}}_\\mathrm{B}\\right|}    \\right) \\varphi^\\mathrm{A}_\\mathrm{1s}(\\mathbf{\\bar{r}};Z)\n",
    "\\end{align}\n",
    "\n",
    "Since $\\varphi^\\mathrm{A}_\\mathrm{1s}(\\mathbf{\\bar{r}})$ is the eigenstate of the hydrogen-like Hamiltonian, and $\\frac{2}{\\left|{\\mathbf{\\bar{R}}_\\mathrm{A}-\\mathbf{\\bar{R}}_\\mathrm{B}}\\right|}$ is independent of electron coordinate $\\mathbf{\\bar{r}}$, we only need to evaluate \n",
    "\\begin{align}\n",
    " &\\int d^3\\mathbf{\\bar{r}} \\varphi^\\mathrm{A*}_\\mathrm{1s}(\\mathbf{\\bar{r}};Z)   \\left(- \\frac{2(1-Z)}{\\left|\\mathbf{\\bar{r}}-\\mathbf{\\bar{R}}_\\mathrm{A}\\right|} -\\frac{2}{\\left|\\mathbf{\\bar{r}}-\\mathbf{\\bar{R}}_\\mathrm{B}\\right|}    \\right) \\varphi^\\mathrm{A}_\\mathrm{1s}(\\mathbf{\\bar{r}};Z) =  \\int d^3\\mathbf{\\bar{r}} \\varphi^\\mathrm{A*}_\\mathrm{1s}(\\mathbf{\\bar{r}};Z)   \\left( -\\frac{2(1-Z)}{ r_\\mathrm{A} } -\\frac{2}{ r_\\mathrm{B} }   \\right) \\varphi^\\mathrm{A}_\\mathrm{1s}(\\mathbf{\\bar{r}};Z) \\\\\n",
    " &= \\int d^3\\mathbf{\\bar{r}} \\left( -\\frac{2(1-Z)}{ r_\\mathrm{A} } -\\frac{2}{ r_\\mathrm{B} }   \\right)  \\frac{Z^3}{{\\pi}}\\mathrm{exp}\\left(-{2Z r_\\mathrm{A}}\\right) =  \\int_{-1}^1 d\\eta \\int_1^\\infty d\\zeta \\int_0^{2\\pi} d\\phi  \\frac{D^3}{8}\\left(\\zeta^2-\\eta^2\\right)  \\left( -\\frac{4(1-Z)}{ D(\\zeta+\\eta) } -\\frac{4}{ D(\\zeta-\\eta) }   \\right)  \\frac{Z^3}{{\\pi}}\\mathrm{exp}\\left(-{ZD(\\zeta+\\eta)}\\right) \\\\\n",
    " &=  \\frac{2}{D}\\left(-1 + D(-1+Z)Z \\right) +\\left(\\frac{2}{D}+{2Z}\\right)\\mathrm{exp}\\left(-{2DZ}\\right)\n",
    "\\end{align}\n",
    "\n",
    "Therefore, we obtain\n",
    "\\begin{align}\n",
    " \\mathcal{U}(Z) &=\\bar{E}_\\mathrm{1s}(Z) + 2(-1+Z)Z + \\left(\\frac{2}{D}+{2Z}\\right)\\mathrm{exp}\\left(-{2DZ}\\right)\n",
    "\\end{align}\n",
    "\n",
    "Finally, we need to evaluate $\\mathcal{\\beta}$\n",
    "\\begin{align}\n",
    "     \\mathcal{\\beta}(Z) &= \\int d^3\\mathbf{\\bar{r}} \\varphi^\\mathrm{A*}_\\mathrm{1s}(\\mathbf{\\bar{r}};Z) \\hat{\\bar{H}}_\\mathrm{ele}  \\varphi^\\mathrm{B}_\\mathrm{1s}(\\mathbf{\\bar{r}};Z) = \\int d^3\\mathbf{\\bar{r}} \\varphi^\\mathrm{A*}_\\mathrm{1s}(\\mathbf{\\bar{r}};Z)   \\left(-\\frac{\\partial^2}{\\partial \\mathbf{\\bar{r}}^2} - \\frac{2}{\\left|\\mathbf{\\bar{r}}-\\mathbf{\\bar{R}}_\\mathrm{A}\\right|} -\\frac{2Z}{\\left|\\mathbf{\\bar{r}}-\\mathbf{\\bar{R}}_\\mathrm{B}\\right|} - \\frac{2(1-Z)}{\\left|\\mathbf{\\bar{r}}-\\mathbf{\\bar{R}}_\\mathrm{B}\\right|}  +\\frac{2}{\\left|{\\mathbf{\\bar{R}}_\\mathrm{A}-\\mathbf{\\bar{R}}_\\mathrm{B}}\\right|}  \\right)  \\varphi^\\mathrm{B}_\\mathrm{1s}(\\mathbf{\\bar{r}};Z)\\\\\n",
    "     &=\\left(\\bar{E}_\\mathrm{1s}(Z) + \\frac{2}{D} \\right)\\mathcal{S}(Z) +  \\int d^3\\mathbf{\\bar{r}} \\varphi^\\mathrm{A*}_\\mathrm{1s}(\\mathbf{\\bar{r}};Z) \\left( -\\frac{2}{\\left|\\mathbf{\\bar{r}}-\\mathbf{\\bar{R}}_\\mathrm{A}\\right|}  - \\frac{2(1-Z)}{\\left|\\mathbf{\\bar{r}}-\\mathbf{\\bar{R}}_\\mathrm{B}\\right|} \\right) \\varphi^\\mathrm{B}_\\mathrm{1s}\\mathbf{\\bar{r}};Z)\n",
    "\\end{align}\n",
    "Clearly, we need to evaluate \n",
    "\\begin{align}\n",
    "& \\int d^3\\mathbf{\\bar{r}} \\varphi^\\mathrm{A*}_\\mathrm{1s}(\\mathbf{\\bar{r}};Z)   \\left( -\\frac{2}{\\left|\\mathbf{\\bar{r}}-\\mathbf{\\bar{R}}_\\mathrm{A}\\right|}  - \\frac{2(1-Z)}{\\left|\\mathbf{\\bar{r}}-\\mathbf{\\bar{R}}_\\mathrm{B}\\right|} \\right)  \\varphi^\\mathrm{B}_\\mathrm{1s}(\\mathbf{\\bar{r}};Z) = \\int d^3\\mathbf{\\bar{r}} \\frac{Z^3}{{\\pi}}\\mathrm{exp}(-Z{r_\\mathrm{A}}) \\left( -\\frac{2}{r_\\mathrm{A}} - \\frac{2(1-Z)}{r_\\mathrm{B}} \\right)  \\mathrm{exp}(-Z{r_\\mathrm{B}}) \\\\\n",
    "&= \\int_{-1}^1 d\\eta \\int_1^\\infty d\\zeta \\int_0^{2\\pi} d\\phi  \\frac{D^3}{8}\\left(\\zeta^2-\\eta^2\\right)  \\left( -\\frac{4}{ D(\\zeta+\\eta) }  - \\frac{4(1-Z)}{D(\\zeta-\\eta)} \\right)  \\frac{Z^3}{{\\pi }}\\mathrm{exp}\\left(-\\frac{DZ(\\zeta+\\eta)}{2}\\right)\\mathrm{exp}\\left(-\\frac{DZ(\\zeta-\\eta)}{2}\\right) \\\\\n",
    "&= 2\\left(-2 + Z \\right)Z(1+DZ) \\mathrm{exp}\\left(-DZ \\right)\n",
    "\\end{align}\n",
    "\n",
    "Therefore, we obtain\n",
    "\\begin{align}\n",
    " \\mathcal{\\beta}&=\\left(\\bar{E}_\\mathrm{1s}(Z) + \\frac{2}{D} \\right)\\mathcal{S}(Z) + 2\\left(-2 + Z \\right)Z(1+DZ) \\mathrm{exp}\\left(-DZ \\right)\n",
    "\\end{align}"
   ]
  },
  {
   "cell_type": "markdown",
   "metadata": {},
   "source": [
    "### Evaluation of  $H^+_2$ Molecule in Minimum Basis Set\n",
    "We start from the standard form\n",
    "\\begin{align}\n",
    "\\begin{pmatrix}\n",
    "\\frac{\\mathcal{U}(Z)-\\mathcal{S}(Z)\\mathcal{\\beta}(Z)}{1-\\mathcal{S}(Z)^2} & \\frac{-\\mathcal{S}(Z)\\mathcal{U}(Z)+\\mathcal{\\beta}(Z)}{1-\\mathcal{S}(Z)^2}  \\\\\n",
    "\\frac{-\\mathcal{S}(Z)\\mathcal{U}(Z)+\\mathcal{\\beta}(Z)}{1-\\mathcal{S}(Z)^2} & \\frac{\\mathcal{U}(Z)-\\mathcal{S}(Z)\\mathcal{\\beta}(Z)}{1-\\mathcal{S}(Z)^2} \\\\\n",
    "\\end{pmatrix}\n",
    "\\begin{pmatrix}\n",
    "C_\\mathrm{A} \\\\\n",
    "C_\\mathrm{B} \\\\\n",
    "\\end{pmatrix}\n",
    "=\\bar{E}\n",
    "\\begin{pmatrix}\n",
    "C_\\mathrm{A} \\\\\n",
    "C_\\mathrm{B} \\\\\n",
    "\\end{pmatrix}\n",
    "\\end{align}\n",
    "\n",
    "Clearly, the eigenvalue and eigen-energy of this equation is\n",
    "\\begin{align}\n",
    "    E_\\mathrm{g} &= \\frac{\\mathcal{U}(Z)+\\mathcal{\\beta}(Z)}{1+\\mathcal{S}(Z)} \\\\\n",
    "    \\Psi_\\mathrm{g}(\\mathbf{\\bar{r}}) &= \\frac{1}{\\sqrt{2+2\\mathcal{S}(Z)}}\\left(\\varphi^\\mathrm{A}_\\mathrm{1s}(\\mathbf{\\bar{r}};Z) + \\varphi^\\mathrm{B}_\\mathrm{1s}(\\mathbf{\\bar{r}};Z)\\right) \n",
    "\\end{align}\n",
    "\n",
    "\\begin{align}\n",
    "    E_\\mathrm{u} &= \\frac{\\mathcal{U}(Z)-\\mathcal{\\beta}(Z)}{1-\\mathcal{S}(Z)} \\\\\n",
    "    \\Psi_\\mathrm{u}(\\mathbf{\\bar{r}}) &= \\frac{1}{\\sqrt{2-2\\mathcal{S}(Z)}}\\left(\\varphi^\\mathrm{A}_\\mathrm{1s}(\\mathbf{\\bar{r}};Z) - \\varphi^\\mathrm{B}_\\mathrm{1s}(\\mathbf{\\bar{r}};Z)\\right) \n",
    "\\end{align}\n",
    "\n",
    "Since we know the $E_\\mathrm{g}$ corresponds to the lowest potential energy surface, we can use the variational principle to find its local minmum,\n",
    "\\begin{align}\n",
    "    E_\\mathrm{g} &= \\frac{\\mathcal{U}(Z)+\\mathcal{\\beta}(Z)}{1+\\mathcal{S}(Z)} \\\\\n",
    "    &=\\frac{-Z^2 + 2(-1+Z)Z + \\left(\\frac{2}{D}+{2Z}\\right)\\mathrm{exp}\\left(-{2DZ}\\right) +\\left(-Z^2 + \\frac{2}{D} \\right)\\mathrm{exp}\\left({-{D}Z}\\right)\\left(1+{D}Z+\\frac{D^2Z^2}{3}\\right) + 2\\left(-2 + Z \\right)Z(1+DZ) \\mathrm{exp}\\left(-DZ \\right)}{1+\\mathrm{exp}\\left({-{D}Z}\\right)\\left(1+{D}Z+\\frac{D^2Z^2}{3}\\right)} \\\\\n",
    "    &=\\frac{-Z^2 + 2(-1+Z)Z + \\left(\\frac{2}{D}+{2Z}\\right)\\mathrm{exp}\\left(-{2DZ}\\right) + \\frac{\\mathrm{exp}(-DZ)}{3D}\\left(6+3D(-2+Z)Z-D^3Z^4 + D^2Z^2(-10+3Z) \\right) }{1+\\mathrm{exp}\\left({-{D}Z}\\right)\\left(1+{D}Z+\\frac{D^2Z^2}{3}\\right)}\n",
    "\\end{align}"
   ]
  },
  {
   "cell_type": "code",
   "execution_count": 14,
   "metadata": {},
   "outputs": [],
   "source": [
    "%matplotlib inline\n",
    "import matplotlib.pyplot as plt\n",
    "import numpy as np\n",
    "from scipy.optimize import minimize_scalar"
   ]
  },
  {
   "cell_type": "code",
   "execution_count": 33,
   "metadata": {},
   "outputs": [
    {
     "data": {
      "text/plain": [
       "[<matplotlib.lines.Line2D at 0x198b27e23d0>]"
      ]
     },
     "execution_count": 33,
     "metadata": {},
     "output_type": "execute_result"
    },
    {
     "data": {
      "image/png": "[encoded data removed]",
      "text/plain": [
       "<Figure size 720x432 with 1 Axes>"
      ]
     },
     "metadata": {
      "needs_background": "light"
     },
     "output_type": "display_data"
    }
   ],
   "source": [
    "Drange = np.linspace(0.4,8,500) \n",
    "temp = 0\n",
    "Zmin = np.zeros(len(Drange))\n",
    "Egmin = np.zeros(len(Drange))\n",
    "for D in Drange:\n",
    "    def f(Z):\n",
    "        Eg = (-Z*Z + 2*(-1+Z)*Z + (2/D+2*Z)*np.exp(-2*D*Z) + np.exp(-D*Z)*(2/D + (-2+Z)*Z - D*D*Z**4/3 + D*Z*Z*(-10+3*Z)/3 ) )/(1+np.exp(-D*Z)*(1+D*Z+D*D*Z*Z/3))\n",
    "        return Eg\n",
    "    res = minimize_scalar(f)\n",
    "    Zmin[temp] = res.x\n",
    "    Egmin[temp] = res.fun\n",
    "    temp = temp +1\n",
    "    \n",
    "    \n",
    "fig,axes = plt.subplots(1,1,figsize = (10,6))\n",
    "axes.plot(Drange,Egmin,label = 'Eg')\n",
    "axes.plot(Drange,Zmin,label = 'Z')\n"
   ]
  },
  {
   "cell_type": "code",
   "execution_count": 35,
   "metadata": {},
   "outputs": [
    {
     "name": "stdout",
     "output_type": "stream",
     "text": [
      "Bonding Energy -0.1730114262219411 Ry\n",
      "Bonding Length 1.9991983967935871 a_0\n"
     ]
    }
   ],
   "source": [
    "Value=min(Egmin)\n",
    "print(\"Bonding Energy\",Value-(-1), \"Ry\")\n",
    "\n",
    "Pos=np.argmin(Egmin)\n",
    "print(\"Bonding Length\",Drange[Pos], \"a_0\")"
   ]
  },
  {
   "cell_type": "markdown",
   "metadata": {},
   "source": [
    "### References:\n",
    "1. J.-P. Grivet, J. Chem. Educ. 2002, 79, 1, 127\n",
    "2. 量子化学（第2版）--基本原理和从头计算法（徐光宪等）上册\n",
    "3. http://www.pci.tu-bs.de/aggericke/PC4e/Kap_II/H2-Ion.htm"
   ]
  }
 ],
 "metadata": {
  "kernelspec": {
   "display_name": "Python 3",
   "language": "python",
   "name": "python3"
  },
  "language_info": {
   "codemirror_mode": {
    "name": "ipython",
    "version": 3
   },
   "file_extension": ".py",
   "mimetype": "text/x-python",
   "name": "python",
   "nbconvert_exporter": "python",
   "pygments_lexer": "ipython3",
   "version": "3.8.3"
  }
 },
 "nbformat": 4,
 "nbformat_minor": 4
}
