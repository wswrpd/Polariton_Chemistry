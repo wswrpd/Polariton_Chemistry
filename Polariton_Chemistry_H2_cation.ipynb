{
 "cells": [
  {
   "cell_type": "markdown",
   "metadata": {},
   "source": [
    "# Polariton Chemistry:\n",
    "## Study $H^+_2$ Molecule\n",
    "\n",
    "Author's infomation: \n",
    "\n",
    "* Siwei Wang @ IAMS-Sinica, Taipei\n",
    "* Email: wswrpd@gate.sinica.edu.tw"
   ]
  },
  {
   "cell_type": "markdown",
   "metadata": {},
   "source": [
    "### Hamailtonian of  $H^+_2$ Molecule\n",
    "\\begin{align}\n",
    "    \\hat{H}_\\mathrm{mol} = -\\frac{\\hbar^2}{2m_\\mathrm{e}}\\frac{\\partial^2}{\\partial \\mathbf{r}^2}-\\frac{\\hbar^2}{2m_\\mathrm{A}}\\frac{\\partial^2}{\\partial \\mathbf{R}_\\mathrm{A}^2} -\\frac{\\hbar^2}{2m_\\mathrm{B}}\\frac{\\partial^2}{\\partial \\mathbf{R}_\\mathrm{B}^2} + \\frac{e^2}{4\\pi\\epsilon_0}\\left(-\\frac{1}{\\left|\\mathbf{r}-\\mathbf{R}_\\mathrm{A}\\right|} -\\frac{1}{\\left|\\mathbf{r}-\\mathbf{R}_\\mathrm{B}\\right|}  +\\frac{1}{\\left|{\\mathbf{R}_\\mathrm{A}-\\mathbf{R}_\\mathrm{B}}\\right|}  \\right) \n",
    "\\end{align}\n",
    "\n",
    "We first apply the atomic unit, so the unit length is Bohr radius, $a_0=\\frac{4\\pi\\epsilon_0\\,\\hbar^2}{m_\\mathrm{e}\\,e^2}\\approx 52.91772\\mathrm{pm}$, and the Hamiltonian can be expressed as,\n",
    "\\begin{align}\n",
    " \\hat{H}_\\mathrm{mol} = -\\frac{\\hbar^2}{2m_\\mathrm{e} a^2_0}\\frac{\\partial^2}{\\partial \\mathbf{\\bar{r}}^2}-\\frac{\\hbar^2}{2m_\\mathrm{A} a^2_0}\\frac{\\partial^2}{\\partial \\mathbf{\\bar{R}}_\\mathrm{A}^2} -\\frac{\\hbar^2}{2m_\\mathrm{B} a^2_0}\\frac{\\partial^2}{\\partial \\mathbf{\\bar{R}}_\\mathrm{B}^2} + \\frac{e^2}{4\\pi\\epsilon_0 a_0} \\left(-\\frac{1}{\\left|\\mathbf{\\bar{r}}-\\mathbf{\\bar{R}}_\\mathrm{A}\\right|} -\\frac{1}{\\left|\\mathbf{\\bar{r}}-\\mathbf{\\bar{R}}_\\mathrm{B}\\right|}  +\\frac{1}{\\left|{\\mathbf{\\bar{R}}_\\mathrm{A}-\\mathbf{\\bar{R}}_\\mathrm{B}}\\right|}  \\right) \n",
    "\\end{align}\n",
    "where $\\mathbf{\\bar{r}}=\\mathbf{r}/a_0$ and $\\mathbf{\\bar{R}}_\\mathrm{A(B)}=\\mathbf{R}_\\mathrm{A(B)}/a_0$. Notice, $\\frac{e^2}{4\\pi\\epsilon_0 a_0} = \\frac{m_\\mathrm{e}e^4}{(4\\pi\\epsilon_0)^2 \\hbar^2}= 2\\times\\frac{m_\\mathrm{e}e^4}{8\\epsilon^2_0 h^2} = 2\\mathrm{Ry} \\approx 2\\times13.60569 \\mathrm{eV}$, and $\\frac{\\hbar^2}{2m_\\mathrm{e} a^2_0}=\\frac{m_\\mathrm{e}e^4}{2(4\\pi\\epsilon_0)^2 \\hbar^2}=1\\mathrm{Ry}$, therefore, we can express the molecular Hamiltonian in the atomic unit system\n",
    "\\begin{align}\n",
    "\\hat{H}_\\mathrm{mol}=\\frac{m_\\mathrm{e}e^4}{8\\epsilon^2_0 h^2} \\left\\{ -\\frac{\\partial^2}{\\partial \\mathbf{\\bar{r}}^2}-\\frac{m_\\mathrm{e}}{m_\\mathrm{A} }\\frac{\\partial^2}{\\partial \\mathbf{\\bar{R}}_\\mathrm{A}^2} -\\frac{m_\\mathrm{e}}{m_\\mathrm{B}}\\frac{\\partial^2}{\\partial \\mathbf{\\bar{R}}_\\mathrm{B}^2} + \\left(-\\frac{2}{\\left|\\mathbf{\\bar{r}}-\\mathbf{\\bar{R}}_\\mathrm{A}\\right|} -\\frac{2}{\\left|\\mathbf{\\bar{r}}-\\mathbf{\\bar{R}}_\\mathrm{B}\\right|}  +\\frac{2}{\\left|{\\mathbf{\\bar{R}}_\\mathrm{A}-\\mathbf{\\bar{R}}_\\mathrm{B}}\\right|}  \\right) \\right\\}\n",
    "\\end{align}\n",
    "\n",
    "Since, $\\frac{m_\\mathrm{e}}{m_\\mathrm{A}}=\\frac{m_\\mathrm{e}}{m_\\mathrm{B}}=\\frac{m_\\mathrm{e}}{m_\\mathrm{p}}\\approx \\frac{1}{1836}$, we can apply the Born-Oppenheimer approximation which omits the kinetic energy of the nuclear first, and focus on the electronic part of the molecular Hamiltonian, $\\hat{{H}}_\\mathrm{ele}$.\n",
    "\\begin{align}\n",
    "    \\hat{\\bar{H}}_\\mathrm{mol}=\\hat{\\bar{H}}_\\mathrm{ele}+  \\left\\{-\\frac{m_\\mathrm{e}}{m_\\mathrm{A} }\\frac{\\partial^2}{\\partial \\mathbf{\\bar{R}}_\\mathrm{A}^2} -\\frac{m_\\mathrm{e}}{m_\\mathrm{B}}\\frac{\\partial^2}{\\partial \\mathbf{\\bar{R}}_\\mathrm{B}^2} \\right\\}\n",
    "\\end{align}\n",
    "where $\\hat{\\bar{H}}_\\mathrm{mol}=\\hat{H}_\\mathrm{mol}/1\\mathrm{Ry}$, and \n",
    "\\begin{align}\n",
    "\\hat{\\bar{H}}_\\mathrm{ele} = -\\frac{\\partial^2}{\\partial \\mathbf{\\bar{r}}^2} - \\frac{2}{\\left|\\mathbf{\\bar{r}}-\\mathbf{\\bar{R}}_\\mathrm{A}\\right|} -\\frac{2}{\\left|\\mathbf{\\bar{r}}-\\mathbf{\\bar{R}}_\\mathrm{B}\\right|}  +\\frac{2}{\\left|{\\mathbf{\\bar{R}}_\\mathrm{A}-\\mathbf{\\bar{R}}_\\mathrm{B}}\\right|}  \n",
    "\\end{align}"
   ]
  },
  {
   "cell_type": "markdown",
   "metadata": {},
   "source": [
    "### Hamailtonian of  Electromagnetic Field\n",
    "We first only consider a single mode of electromagnetic field,\n",
    "\\begin{align}\n",
    "    \\hat{H}_\\mathrm{cav} = \\sum_\\mathrm{i=TE,TM}\\sum_{n=0}^\\infty \\int d\\mathbf{k}_\\rho \\hbar \\omega_\\mathrm{cav} \\hat{a}_i^\\dagger(\\mathbf{k}_\\rho,k_z) \\hat{a}_i(\\mathbf{k}_\\rho,k_z) \n",
    "\\end{align}\n",
    "\n",
    "\\begin{align}\n",
    "    \\hat{H}_\\mathrm{int} = -\\frac{ eZ_\\mathrm{H,1} }{m_\\mathrm{H,1}} \\hat{\\mathbf{A}}(\\hat{\\mathbf{r}}_\\mathrm{H,1}) \\cdot \\hat{\\mathbf{p}}_\\mathrm{H,1} -\\frac{ eZ_\\mathrm{H,2} }{m_\\mathrm{H,2}} \\hat{\\mathbf{A}}(\\hat{\\mathbf{r}}_\\mathrm{H,2}) \\cdot \\hat{\\mathbf{p}}_\\mathrm{H,2} + \\frac{ e }{m_\\mathrm{e}} \\hat{\\mathbf{A}}(\\hat{\\mathbf{r}}_\\mathrm{e}) \\cdot \\hat{\\mathbf{p}}_\\mathrm{e} + \\frac{ e^2 Z^2_\\mathrm{H,1} }{2m_\\mathrm{H,1}} \\hat{\\mathbf{A}}^2(\\hat{\\mathbf{r}}_\\mathrm{H,1}) + \\frac{ e^2 Z^2_\\mathrm{H,2} }{2m_\\mathrm{H,2}} \\hat{\\mathbf{A}}^2(\\hat{\\mathbf{r}}_\\mathrm{H,2}) +  \\frac{ e^2 }{2m_\\mathrm{e}} \\hat{\\mathbf{A}}^2(\\hat{\\mathbf{r}}_\\mathrm{e})\n",
    "\\end{align}\n",
    "\n",
    "We first consider the TE mode, the vector potential is\n",
    "\\begin{align}\n",
    "    \\hat{\\mathbf{A}}(\\hat{\\mathbf{r}}) = \\sum_{n=0}^\\infty \\int d\\mathbf{k}_\\rho \\sqrt{\\frac{\\hbar}{\\epsilon_0\\omega_k V}} \\left( \\hat{a}_\\mathrm{TE}(\\hat{\\mathbf{k}}_\\rho, k_z) \\mathrm{sin(k_z z)}  e^{i k_\\rho \\rho} \\hat{\\mathbf{k}}_\\rho \\times \\hat{\\mathbf{z}} + \\mathrm{h.c.} \\right)\n",
    "\\end{align}\n",
    "where $k_z=n\\pi/L$, L is the length of the cavity. We then choose a single mode $n=1$, and use a simplified notation $\\hat{a}=\\hat{a}_\\mathrm{TE}(\\hat{\\mathbf{k}}_\\rho, k_z)$, so that \n",
    "\\begin{align}\n",
    "    \\hat{\\mathbf{A}}(\\hat{\\mathbf{r}}) = \\lambda \\hat{\\mathbf{x}} \\left( \\hat{a}_\\mathrm{TE} + \\hat{a}^\\dagger_\\mathrm{TE} \\right)\n",
    "\\end{align}\n",
    "where $\\lambda = -\\sqrt{\\frac{\\hbar}{\\epsilon_0\\omega_k V}}  \\mathrm{sin(\\pi z/L)}  e^{i k_y y} \\approx  -\\sqrt{\\frac{\\hbar}{\\epsilon_0\\omega_k V}}   $, we set $z=L/2$ and $y$ is the position of electron away from the axis between two hydrogen nuclear, so $e^{i k_y y}\\approx 1$ and $\\mathrm{sin(\\pi z/L)} = 1$\n",
    "\n",
    "And the photon Hamiltonian becomes\n",
    "\\begin{align}\n",
    "       \\hat{H}_\\mathrm{cav} = \\hbar \\omega_\\mathrm{cav} \\hat{a}^\\dagger_\\mathrm{TE} \\hat{a}_\\mathrm{TE} \n",
    "\\end{align}\n",
    "\n",
    "For the interaction part, because the nuclear is fixed, its momentum is zero, therefore, the interaction part Hamiltonian becomes,\n",
    "\\begin{align}\n",
    "    \\hat{H}_\\mathrm{int} &=  \\frac{ e }{m_\\mathrm{e}} \\hat{\\mathbf{A}}(\\hat{\\mathbf{r}}_\\mathrm{e}) \\cdot \\hat{\\mathbf{p}}_\\mathrm{e} + \\frac{ e^2 Z^2_\\mathrm{H,1} }{2m_\\mathrm{H,1}} \\hat{\\mathbf{A}}^2(\\hat{\\mathbf{r}}_\\mathrm{H,1}) + \\frac{ e^2 Z^2_\\mathrm{H,2} }{2m_\\mathrm{H,2}} \\hat{\\mathbf{A}}^2(\\hat{\\mathbf{r}}_\\mathrm{H,2}) +  \\frac{ e^2 }{2m_\\mathrm{e}} \\hat{\\mathbf{A}}^2(\\hat{\\mathbf{r}}_\\mathrm{e}) \\\\\n",
    "    &=  \\frac{ e }{m_\\mathrm{e}} \\lambda \\left( \\hat{a}_\\mathrm{TE} + \\hat{a}^\\dagger_\\mathrm{TE} \\right) \\hat{{p}}^x_\\mathrm{e} + \\frac{ e^2  }{2m_\\mathrm{H,1}} \\hat{\\mathbf{A}}^2(\\hat{\\mathbf{r}}_\\mathrm{H,1}) + \\frac{ e^2  }{2m_\\mathrm{H,2}} \\hat{\\mathbf{A}}^2(\\hat{\\mathbf{r}}_\\mathrm{H,2}) +  \\frac{ e^2 }{2m_\\mathrm{e}} \\hat{\\mathbf{A}}^2(\\hat{\\mathbf{r}}_\\mathrm{e})\n",
    "\\end{align}\n",
    "Becasue of $m_\\mathrm{e}\\ll m_\\mathrm{H,1(2)}$, we neglect $\\hat{\\mathbf{A}}^2(\\hat{\\mathbf{r}}_\\mathrm{H,1(2)})$, and the interaction Hamiltonian is approximately \n",
    "\\begin{align}\n",
    "    \\hat{H}_\\mathrm{int}  \n",
    "    &\\approx  \\frac{ e }{m_\\mathrm{e}} \\lambda \\left( \\hat{a}_\\mathrm{TE} + \\hat{a}^\\dagger_\\mathrm{TE} \\right) \\hat{{p}}^x_\\mathrm{e}  +  \\frac{ e^2 }{2m_\\mathrm{e}} \\hat{\\mathbf{A}}^2(\\hat{\\mathbf{r}}_\\mathrm{e}) \\\\\n",
    "    &= \\frac{ e }{m_\\mathrm{e}} \\lambda \\left( \\hat{a}_\\mathrm{TE} + \\hat{a}^\\dagger_\\mathrm{TE} \\right) \\hat{{p}}^x_\\mathrm{e}  +  \\frac{ e^2 }{2m_\\mathrm{e}} \\lambda^2  \\left( \\hat{a}_\\mathrm{TE} + \\hat{a}^\\dagger_\\mathrm{TE} \\right)^2  \\\\\n",
    "    &\\approx \\frac{ e }{m_\\mathrm{e}} \\lambda \\left( \\hat{a}_\\mathrm{TE} + \\hat{a}^\\dagger_\\mathrm{TE} \\right) \\hat{{p}}^x_\\mathrm{e}  +  \\frac{ e^2 }{2m_\\mathrm{e}} \\lambda^2  \\left( \\hat{a}_\\mathrm{TE}\\hat{a}^\\dagger_\\mathrm{TE} + \\hat{a}^\\dagger_\\mathrm{TE} \\hat{a}_\\mathrm{TE} \\right) \\\\\n",
    "    &\\approx \\frac{ e }{m_\\mathrm{e}} \\lambda \\left( \\hat{a}_\\mathrm{TE} + \\hat{a}^\\dagger_\\mathrm{TE} \\right) \\hat{{p}}^x_\\mathrm{e}  +  \\frac{ e^2 }{2m_\\mathrm{e}} \\lambda^2  \\left( 2\\hat{a}^\\dagger_\\mathrm{TE} \\hat{a}_\\mathrm{TE} +1\\right) \\\\\n",
    "\\end{align}\n",
    "The last approximation is because we do not consider two photon states. Finally, we summarize our reduced total Hamiltonian,\n",
    "\\begin{align}\n",
    "    \\hat{\\bar{H}}_\\mathrm{tot} = -\\frac{\\partial^2}{\\partial \\mathbf{\\bar{r}}^2} - \\frac{2}{\\left|\\mathbf{\\bar{r}}-\\mathbf{\\bar{R}}_\\mathrm{A}\\right|} -\\frac{2}{\\left|\\mathbf{\\bar{r}}-\\mathbf{\\bar{R}}_\\mathrm{B}\\right|}  +\\frac{2}{\\left|{\\mathbf{\\bar{R}}_\\mathrm{A}-\\mathbf{\\bar{R}}_\\mathrm{B}}\\right|}   +   \\hbar \\omega_\\mathrm{cav} \\hat{a}^\\dagger_\\mathrm{TE} \\hat{a}_\\mathrm{TE}  + \\bar{\\lambda} \\left( \\hat{a}_\\mathrm{TE} + \\hat{a}^\\dagger_\\mathrm{TE} \\right) \\hat{{p}}^x_\\mathrm{e}  +   \\bar{\\lambda}^2  \\left( \\hat{a}^\\dagger_\\mathrm{TE} \\hat{a}_\\mathrm{TE} +\\frac{1}{2}\\right)\n",
    "\\end{align}\n",
    "where $\\bar{\\lambda} =  \\frac{ e }{m_\\mathrm{e}} \\lambda$, $\\hat{{p}}^x_\\mathrm{e} = -i\\hbar \\frac{\\partial}{\\partial \\bar{x}}$, $\\mathbf{\\bar{r}} = (\\bar{x},\\bar{y},\\bar{z})$\n"
   ]
  },
  {
   "cell_type": "code",
   "execution_count": null,
   "metadata": {},
   "outputs": [],
   "source": []
  }
 ],
 "metadata": {
  "kernelspec": {
   "display_name": "Python 3",
   "language": "python",
   "name": "python3"
  },
  "language_info": {
   "codemirror_mode": {
    "name": "ipython",
    "version": 3
   },
   "file_extension": ".py",
   "mimetype": "text/x-python",
   "name": "python",
   "nbconvert_exporter": "python",
   "pygments_lexer": "ipython3",
   "version": "3.8.3"
  }
 },
 "nbformat": 4,
 "nbformat_minor": 4
}
