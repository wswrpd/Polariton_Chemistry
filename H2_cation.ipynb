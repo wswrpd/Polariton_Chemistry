{
 "cells": [
  {
   "cell_type": "markdown",
   "metadata": {},
   "source": [
    "# Quantum Chemistry:\n",
    "## Study $H^+_2$ Molecule\n",
    "\n",
    "Author's infomation: \n",
    "\n",
    "* Siwei Wang @ IAMS-Sinica, Taipei\n",
    "* Email: wswrpd@gate.sinica.edu.tw"
   ]
  },
  {
   "cell_type": "markdown",
   "metadata": {},
   "source": [
    "### Hamailtonian of  $H^+_2$ Molecule\n",
    "\\begin{align}\n",
    "    \\hat{H}_\\mathrm{mol} = -\\frac{\\hbar^2}{2m_\\mathrm{e}}\\frac{\\partial^2}{\\partial \\mathbf{r}^2}-\\frac{\\hbar^2}{2m_\\mathrm{A}}\\frac{\\partial^2}{\\partial \\mathbf{R}_\\mathrm{A}^2} -\\frac{\\hbar^2}{2m_\\mathrm{B}}\\frac{\\partial^2}{\\partial \\mathbf{R}_\\mathrm{B}^2} + \\frac{e^2}{4\\pi\\epsilon_0}\\left(-\\frac{1}{\\left|\\mathbf{r}-\\mathbf{R}_\\mathrm{A}\\right|} -\\frac{1}{\\left|\\mathbf{r}-\\mathbf{R}_\\mathrm{B}\\right|}  +\\frac{1}{\\left|{\\mathbf{R}_\\mathrm{A}-\\mathbf{R}_\\mathrm{B}}\\right|}  \\right) \n",
    "\\end{align}\n",
    "\n",
    "We first apply the atomic unit, so the unit length is Bohr radius, $a_0=\\frac{4\\pi\\epsilon_0\\,\\hbar^2}{m_\\mathrm{e}\\,e^2}\\approx 52.91772\\mathrm{pm}$, and the Hamiltonian can be expressed as,\n",
    "\\begin{align}\n",
    " \\hat{H}_\\mathrm{mol} = -\\frac{\\hbar^2}{2m_\\mathrm{e} a^2_0}\\frac{\\partial^2}{\\partial \\mathbf{\\bar{r}}^2}-\\frac{\\hbar^2}{2m_\\mathrm{A} a^2_0}\\frac{\\partial^2}{\\partial \\mathbf{\\bar{R}}_\\mathrm{A}^2} -\\frac{\\hbar^2}{2m_\\mathrm{B} a^2_0}\\frac{\\partial^2}{\\partial \\mathbf{\\bar{R}}_\\mathrm{B}^2} + \\frac{e^2}{4\\pi\\epsilon_0 a_0} \\left(-\\frac{1}{\\left|\\mathbf{\\bar{r}}-\\mathbf{\\bar{R}}_\\mathrm{A}\\right|} -\\frac{1}{\\left|\\mathbf{\\bar{r}}-\\mathbf{\\bar{R}}_\\mathrm{B}\\right|}  +\\frac{1}{\\left|{\\mathbf{\\bar{R}}_\\mathrm{A}-\\mathbf{\\bar{R}}_\\mathrm{B}}\\right|}  \\right) \n",
    "\\end{align}\n",
    "where $\\mathbf{\\bar{r}}=\\mathbf{r}/a_0$ and $\\mathbf{\\bar{R}}_\\mathrm{A(B)}=\\mathbf{R}_\\mathrm{A(B)}/a_0$. Notice, $\\frac{e^2}{4\\pi\\epsilon_0 a_0} = \\frac{m_\\mathrm{e}e^4}{(4\\pi\\epsilon_0)^2 \\hbar^2}= 2\\times\\frac{m_\\mathrm{e}e^4}{8\\epsilon^2_0 h^2} = 2\\mathrm{Ry} \\approx 2\\times13.60569 \\mathrm{eV}$, and $\\frac{\\hbar^2}{2m_\\mathrm{e} a^2_0}=\\frac{m_\\mathrm{e}e^4}{2(4\\pi\\epsilon_0)^2 \\hbar^2}=1\\mathrm{Ry}$, therefore, we can express the molecular Hamiltonian in the atomic unit system\n",
    "\\begin{align}\n",
    "\\hat{H}_\\mathrm{mol}=\\frac{m_\\mathrm{e}e^4}{8\\epsilon^2_0 h^2} \\left\\{ -\\frac{\\partial^2}{\\partial \\mathbf{\\bar{r}}^2}-\\frac{m_\\mathrm{e}}{m_\\mathrm{A} }\\frac{\\partial^2}{\\partial \\mathbf{\\bar{R}}_\\mathrm{A}^2} -\\frac{m_\\mathrm{e}}{m_\\mathrm{B}}\\frac{\\partial^2}{\\partial \\mathbf{\\bar{R}}_\\mathrm{B}^2} + \\left(-\\frac{2}{\\left|\\mathbf{\\bar{r}}-\\mathbf{\\bar{R}}_\\mathrm{A}\\right|} -\\frac{2}{\\left|\\mathbf{\\bar{r}}-\\mathbf{\\bar{R}}_\\mathrm{B}\\right|}  +\\frac{2}{\\left|{\\mathbf{\\bar{R}}_\\mathrm{A}-\\mathbf{\\bar{R}}_\\mathrm{B}}\\right|}  \\right) \\right\\}\n",
    "\\end{align}\n",
    "\n",
    "Since, $\\frac{m_\\mathrm{e}}{m_\\mathrm{A}}=\\frac{m_\\mathrm{e}}{m_\\mathrm{B}}=\\frac{m_\\mathrm{e}}{m_\\mathrm{p}}\\approx \\frac{1}{1836}$, we can apply the Born-Oppenheimer approximation which omits the kinetic energy of the nuclear first, and focus on the electronic part of the molecular Hamiltonian, $\\hat{{H}}_\\mathrm{ele}$.\n",
    "\\begin{align}\n",
    "    \\hat{\\bar{H}}_\\mathrm{mol}=\\hat{\\bar{H}}_\\mathrm{ele}+  \\left\\{-\\frac{m_\\mathrm{e}}{m_\\mathrm{A} }\\frac{\\partial^2}{\\partial \\mathbf{\\bar{R}}_\\mathrm{A}^2} -\\frac{m_\\mathrm{e}}{m_\\mathrm{B}}\\frac{\\partial^2}{\\partial \\mathbf{\\bar{R}}_\\mathrm{B}^2} \\right\\}\n",
    "\\end{align}\n",
    "where $\\hat{\\bar{H}}_\\mathrm{mol}=\\hat{H}_\\mathrm{mol}/1\\mathrm{Ry}$, and \n",
    "\\begin{align}\n",
    "\\hat{\\bar{H}}_\\mathrm{ele} = -\\frac{\\partial^2}{\\partial \\mathbf{\\bar{r}}^2} + \\frac{2}{\\left|\\mathbf{\\bar{r}}-\\mathbf{\\bar{R}}_\\mathrm{A}\\right|} -\\frac{2}{\\left|\\mathbf{\\bar{r}}-\\mathbf{\\bar{R}}_\\mathrm{B}\\right|}  +\\frac{2}{\\left|{\\mathbf{\\bar{R}}_\\mathrm{A}-\\mathbf{\\bar{R}}_\\mathrm{B}}\\right|}  \n",
    "\\end{align}\n"
   ]
  },
  {
   "cell_type": "markdown",
   "metadata": {},
   "source": [
    "### Time-Independent Schrödinger Equation of Electronic Part Hamiltonian of  $H^+_2$ Molecule and $H$ Atom\n",
    "\\begin{align}\n",
    "\\left(-\\frac{\\partial^2}{\\partial \\mathbf{\\bar{r}}^2} + \\frac{2}{\\left|\\mathbf{\\bar{r}}-\\mathbf{\\bar{R}}_\\mathrm{A}\\right|} -\\frac{2}{\\left|\\mathbf{\\bar{r}}-\\mathbf{\\bar{R}}_\\mathrm{B}\\right|}  +\\frac{2}{\\left|{\\mathbf{\\bar{R}}_\\mathrm{A}-\\mathbf{\\bar{R}}_\\mathrm{B}}\\right|}  \\right) \\Psi(\\mathbf{\\bar{r}}) = \\bar{E}\\Psi(\\mathbf{\\bar{r}})\n",
    "\\end{align}\n",
    "where $\\Psi(\\mathbf{\\bar{r}})$ is the wavefunction of $H^+_2$ molecule. \n",
    "\n",
    "For a hydrogen atom, following a similar procedure, we can get\n",
    "\\begin{align}\n",
    "\\left(-\\frac{\\partial^2}{\\partial \\mathbf{\\bar{r}}^2} + \\frac{2}{\\left|\\mathbf{\\bar{r}}-\\mathbf{\\bar{R}}_\\mathrm{A}\\right|}  \\right) \\varphi(\\mathbf{\\bar{r}}) = \\bar{E}\\varphi(\\mathbf{\\bar{r}})\n",
    "\\end{align}\n",
    "where $\\varphi(\\mathbf{\\bar{r}})$ is the wavefunction of $H$ atom. The eigenstates of hydrogen atom is well-known, and its ground state wavefunction $\\varphi^\\mathrm{A}_\\mathrm{1s}(\\mathbf{\\bar{r}})$ is\n",
    "\\begin{align}\n",
    "\\varphi^\\mathrm{A}_\\mathrm{1s}(\\mathbf{\\bar{r}}) = \\frac{1}{\\sqrt{\\pi}}\\mathrm{exp}(-{\\left|\\mathbf{\\bar{r}}-\\mathbf{\\bar{R}}_\\mathrm{A}\\right|})\n",
    "\\end{align}\n",
    "and the corresponding eigen-energy is $\\bar{E}_\\mathrm{1s}=- \\frac{1}{1^2} = -1 $  (in unit Ry) (Note that we apply the B-O approximation, so the reduced mass $\\frac{ m_\\mathrm{proton} }{m_\\mathrm{p} + m_\\mathrm{e}} \\rightarrow 1$ in the conventional formula for hydrogen atom eigen-energy)\n",
    "\\begin{align}\n",
    "\\left(-\\frac{\\partial^2}{\\partial \\mathbf{\\bar{r}}^2} + \\frac{2}{\\left|\\mathbf{\\bar{r}}-\\mathbf{\\bar{R}}_\\mathrm{A}\\right|}  \\right) \\varphi^\\mathrm{A}_\\mathrm{1s}(\\mathbf{\\bar{r}}) = \\bar{E}_\\mathrm{1s}\\varphi^\\mathrm{A}_\\mathrm{1s}(\\mathbf{\\bar{r}})\n",
    "\\end{align}"
   ]
  },
  {
   "cell_type": "markdown",
   "metadata": {},
   "source": [
    "### Linear Combination of Atomic Orbitals (LCAO) of  $H^+_2$ Molecule in Minimum Basis Set\n",
    "We guess the wavefunction of the $H^+_2$ molecule, $\\Psi(\\mathbf{\\bar{r}})$, can be constructed by the wavefunction of hydrogen atom placed at position A and B.\n",
    "\\begin{align}\n",
    "\\Psi(\\mathbf{\\bar{r}}) = C_\\mathrm{A}\\varphi^\\mathrm{A}_\\mathrm{1s}(\\mathbf{\\bar{r}})+C_\\mathrm{B}\\varphi^\\mathrm{B}_\\mathrm{1s}(\\mathbf{\\bar{r}})\n",
    "\\end{align}\n",
    "Therefore, the Schr$\\ddot{\\mathrm{o}}$dinger equation of $H^+_2$ becomes\n",
    "\\begin{align}\n",
    "\\hat{\\bar{H}}_\\mathrm{ele} \\left( C_\\mathrm{A}\\varphi^\\mathrm{A}_\\mathrm{1s}(\\mathbf{\\bar{r}})+C_\\mathrm{B}\\varphi^\\mathrm{B}_\\mathrm{1s}(\\mathbf{\\bar{r}}) \\right) = \\bar{E} \\left( C_\\mathrm{A}\\varphi^\\mathrm{A}_\\mathrm{1s}(\\mathbf{\\bar{r}})+C_\\mathrm{B}\\varphi^\\mathrm{B}_\\mathrm{1s}(\\mathbf{\\bar{r}}) \\right)\n",
    "\\end{align}\n",
    "\n",
    "By multiplying $\\varphi^\\mathrm{A*}_\\mathrm{1s}(\\mathbf{\\bar{r}})$ on both side of the equation and integrate over the whole space, we obtain\n",
    "\\begin{align}\n",
    "\\int d^3\\mathbf{\\bar{r}} \\left(C_\\mathrm{A} \\varphi^\\mathrm{A*}_\\mathrm{1s}(\\mathbf{\\bar{r}}) \\hat{\\bar{H}}_\\mathrm{ele}  \\varphi^\\mathrm{A}_\\mathrm{1s}(\\mathbf{\\bar{r}})+ C_\\mathrm{B} \\varphi^\\mathrm{A*}_\\mathrm{1s}(\\mathbf{\\bar{r}})\\hat{\\bar{H}}_\\mathrm{ele}  \\varphi^\\mathrm{B}_\\mathrm{1s} (\\mathbf{\\bar{r}}) \\right) = \\int d^3\\mathbf{\\bar{r}}  \\bar{E}\\left( C_\\mathrm{A} \\varphi^\\mathrm{A*}_\\mathrm{1s}(\\mathbf{\\bar{r}})\\varphi^\\mathrm{A}_\\mathrm{1s}(\\mathbf{\\bar{r}})+C_\\mathrm{B}\\varphi^\\mathrm{A*}_\\mathrm{1s}(\\mathbf{\\bar{r}})\\varphi^\\mathrm{B}_\\mathrm{1s}(\\mathbf{\\bar{r}}) \\right)\n",
    "\\end{align}\n",
    "By multiplying $\\varphi^\\mathrm{B*}_\\mathrm{1s}(\\mathbf{\\bar{r}})$ on both side of the equation and integrate over the whole space, we obtain\n",
    "\\begin{align}\n",
    "\\int d^3\\mathbf{\\bar{r}} \\left(C_\\mathrm{A} \\varphi^\\mathrm{B*}_\\mathrm{1s}(\\mathbf{\\bar{r}}) \\hat{\\bar{H}}_\\mathrm{ele}  \\varphi^\\mathrm{A}_\\mathrm{1s}(\\mathbf{\\bar{r}})+ C_\\mathrm{B} \\varphi^\\mathrm{B*}_\\mathrm{1s}(\\mathbf{\\bar{r}})\\hat{\\bar{H}}_\\mathrm{ele}  \\varphi^\\mathrm{B}_\\mathrm{1s} (\\mathbf{\\bar{r}}) \\right) = \\int d^3\\mathbf{\\bar{r}}  \\bar{E}\\left( C_\\mathrm{A} \\varphi^\\mathrm{B*}_\\mathrm{1s}(\\mathbf{\\bar{r}})\\varphi^\\mathrm{A}_\\mathrm{1s}(\\mathbf{\\bar{r}})+C_\\mathrm{B}\\varphi^\\mathrm{B*}_\\mathrm{1s}(\\mathbf{\\bar{r}})\\varphi^\\mathrm{B}_\\mathrm{1s}(\\mathbf{\\bar{r}}) \\right)\n",
    "\\end{align}\n",
    "\n",
    "Since the ground state wavefunction $\\varphi^\\mathrm{A(B)}_\\mathrm{1s}(\\mathbf{\\bar{r}})$ are normalized wavefunction, $\\int d^3\\mathbf{\\bar{r}}\\varphi^\\mathrm{A(B)*}_\\mathrm{1s}(\\mathbf{\\bar{r}})\\varphi^\\mathrm{A(B)}_\\mathrm{1s}(\\mathbf{\\bar{r}}) = 1$. We further define a few symbols to simplify the notation,\n",
    "\\begin{align}\n",
    "    \\mathcal{U} &= \\int d^3\\mathbf{\\bar{r}} \\varphi^\\mathrm{A*}_\\mathrm{1s}(\\mathbf{\\bar{r}}) \\hat{\\bar{H}}_\\mathrm{ele}  \\varphi^\\mathrm{A}_\\mathrm{1s}(\\mathbf{\\bar{r}}) =  \\int d^3\\mathbf{\\bar{r}} \\varphi^\\mathrm{B*}_\\mathrm{1s}(\\mathbf{\\bar{r}}) \\hat{\\bar{H}}_\\mathrm{ele}  \\varphi^\\mathrm{B}_\\mathrm{1s}(\\mathbf{\\bar{r}}) \\\\\n",
    "     \\mathcal{\\beta} &= \\int d^3\\mathbf{\\bar{r}} \\varphi^\\mathrm{A*}_\\mathrm{1s}(\\mathbf{\\bar{r}}) \\hat{\\bar{H}}_\\mathrm{ele}  \\varphi^\\mathrm{B}_\\mathrm{1s}(\\mathbf{\\bar{r}}) =  \\int d^3\\mathbf{\\bar{r}} \\varphi^\\mathrm{B*}_\\mathrm{1s}(\\mathbf{\\bar{r}}) \\hat{\\bar{H}}_\\mathrm{ele}  \\varphi^\\mathrm{A}_\\mathrm{1s}(\\mathbf{\\bar{r}}) \\\\\n",
    "     \\mathcal{S} &= \\int d^3\\mathbf{\\bar{r}} \\varphi^\\mathrm{A*}_\\mathrm{1s}(\\mathbf{\\bar{r}})  \\varphi^\\mathrm{B}_\\mathrm{1s}(\\mathbf{\\bar{r}}) =  \\int d^3\\mathbf{\\bar{r}} \\varphi^\\mathrm{B*}_\\mathrm{1s}(\\mathbf{\\bar{r}}) \\varphi^\\mathrm{A}_\\mathrm{1s}(\\mathbf{\\bar{r}})\n",
    "\\end{align}\n",
    "the identity of $\\mathcal{U}$, $\\mathcal{\\beta}$ and $\\mathcal{S}$ is because the two nuclei are the same.  Therefore, we can express the Schr$\\ddot{\\mathrm{o}}$dinger equation like,\n",
    "\\begin{align}\n",
    "\\begin{pmatrix}\n",
    "\\mathcal{U} & \\mathcal{\\beta}   \\\\\n",
    "\\mathcal{\\beta}  & \\mathcal{U} \\\\\n",
    "\\end{pmatrix}\n",
    "\\begin{pmatrix}\n",
    "C_\\mathrm{A} \\\\\n",
    "C_\\mathrm{B} \\\\\n",
    "\\end{pmatrix}\n",
    "=\\bar{E}\\begin{pmatrix}\n",
    "1 & \\mathcal{S}  \\\\\n",
    "\\mathcal{S} & 1 \\\\\n",
    "\\end{pmatrix}\n",
    "\\begin{pmatrix}\n",
    "C_\\mathrm{A} \\\\\n",
    "C_\\mathrm{B} \\\\\n",
    "\\end{pmatrix}\n",
    "\\end{align}\n",
    "\n",
    "Clearly, this is an eigenvalue problem, and we can solve it if we now the value of $\\mathcal{U}$, $ \\mathcal{\\beta}$ and $\\mathcal{S}$."
   ]
  },
  {
   "cell_type": "markdown",
   "metadata": {},
   "source": [
    "### Evaluation of $\\mathcal{U}$, $ \\mathcal{\\beta}$ and $\\mathcal{S}$.\n",
    "We first evaluate $\\mathcal{S}$\n",
    "\\begin{align}\n",
    "  \\mathcal{S} &= \\int d^3\\mathbf{\\bar{r}} \\varphi^\\mathrm{A*}_\\mathrm{1s}(\\mathbf{\\bar{r}})  \\varphi^\\mathrm{B}_\\mathrm{1s}(\\mathbf{\\bar{r}}) = \\int d^3\\mathbf{\\bar{r}}  \\frac{1}{\\sqrt{\\pi }}\\mathrm{exp}(-{\\left|\\mathbf{\\bar{r}}-\\mathbf{\\bar{R}}_\\mathrm{A}\\right|})  \\frac{1}{\\sqrt{\\pi }}\\mathrm{exp}(-{\\left|\\mathbf{\\bar{r}}-\\mathbf{\\bar{R}}_\\mathrm{B}\\right|})\n",
    "\\end{align}\n",
    "\n",
    "Without loss of generality, we set $\\mathbf{\\bar{R}}_\\mathrm{A}=(0,0,-D/2)$ and $\\mathbf{\\bar{R}}_\\mathrm{B}=(0,0,D/2)$, \n",
    "\\begin{align}\n",
    "  \\mathcal{S} &= \\int d^3\\mathbf{\\bar{r}}  \\frac{1}{{\\pi}}\\mathrm{exp}(-{\\left|\\mathbf{\\bar{r}}-\\mathbf{\\bar{R}}_\\mathrm{A}\\right|})  \\mathrm{exp}(-{\\left|\\mathbf{\\bar{r}}-\\mathbf{\\bar{R}}_\\mathrm{B}\\right|})= \\int d^3\\mathbf{\\bar{r}}  \\frac{1}{{\\pi }}\\mathrm{exp}(-{\\sqrt{x^2+y^2+(z+D/2)^2} })  \\mathrm{exp}(-{\\sqrt{x^2+y^2+(z-D/2)^2}})\\\\\n",
    "  &= \\int d^3\\mathbf{\\bar{r}}  \\frac{1}{{\\pi }}\\mathrm{exp}(-{r_\\mathrm{A}-r_\\mathrm{B} })  \n",
    "\\end{align}\n",
    "where $r_\\mathrm{A}=\\left|\\mathbf{\\bar{r}}-\\mathbf{\\bar{R}}_\\mathrm{A}\\right|$, and $r_\\mathrm{B}=\\left|\\mathbf{\\bar{r}}-\\mathbf{\\bar{R}}_\\mathrm{B}\\right|$.  We then use the confocal elliptic coordinates, $\\zeta=(r_\\mathrm{A}+r_\\mathrm{B})/D$, $\\eta=(r_\\mathrm{A}-r_\\mathrm{B})/D$, so that $1 \\le \\zeta \\le \\infty$, $-1 \\le \\eta \\le 1$, $0 \\le \\phi \\le 2\\pi$ and the volume element in spheroidal coordinates turns out to be $ d^3\\mathbf{\\bar{r}}=\\frac{D^3}{8}\\left(\\zeta^2-\\eta^2\\right)d\\zeta d\\eta d\\phi$\n",
    "\\begin{align}\n",
    "  \\mathcal{S} &=  \\int_{-1}^1 d\\eta \\int_1^\\infty d\\zeta \\int_0^{2\\pi} d\\phi  \\frac{D^3}{8}\\left(\\zeta^2-\\eta^2\\right)  \\frac{1}{{\\pi }}\\mathrm{exp}(-{ D\\zeta })  \\\\\n",
    "  &=\\mathrm{exp}\\left({-{D}}\\right)\\left(1+{D}+\\frac{D^2}{3}\\right)\n",
    "\\end{align}\n",
    "\n",
    "Then, we evaluate $\\mathcal{U}$\n",
    "\\begin{align}\n",
    " \\mathcal{U} &= \\int d^3\\mathbf{\\bar{r}} \\varphi^\\mathrm{A*}_\\mathrm{1s}(\\mathbf{\\bar{r}}) \\hat{\\bar{H}}_\\mathrm{ele}  \\varphi^\\mathrm{A}_\\mathrm{1s}(\\mathbf{\\bar{r}}) = \\int d^3\\mathbf{\\bar{r}} \\varphi^\\mathrm{A*}_\\mathrm{1s}(\\mathbf{\\bar{r}})   \\left(-\\frac{\\partial^2}{\\partial \\mathbf{\\bar{r}}^2} + \\frac{2}{\\left|\\mathbf{\\bar{r}}-\\mathbf{\\bar{R}}_\\mathrm{A}\\right|} -\\frac{2}{\\left|\\mathbf{\\bar{r}}-\\mathbf{\\bar{R}}_\\mathrm{B}\\right|}  +\\frac{2}{\\left|{\\mathbf{\\bar{R}}_\\mathrm{A}-\\mathbf{\\bar{R}}_\\mathrm{B}}\\right|}  \\right) \\varphi^\\mathrm{A}_\\mathrm{1s}(\\mathbf{\\bar{r}}) \\\\\n",
    " &= \\left( \\bar{E}_\\mathrm{1s} + \\frac{2}{D} \\right) +  \\int d^3\\mathbf{\\bar{r}} \\varphi^\\mathrm{A*}_\\mathrm{1s}(\\mathbf{\\bar{r}})   \\left( -\\frac{2}{\\left|\\mathbf{\\bar{r}}-\\mathbf{\\bar{R}}_\\mathrm{B}\\right|}    \\right) \\varphi^\\mathrm{A}_\\mathrm{1s}(\\mathbf{\\bar{r}})\n",
    "\\end{align}\n",
    "\n",
    "Since $\\varphi^\\mathrm{A}_\\mathrm{1s}(\\mathbf{\\bar{r}})$ is the eigenstate of the hydrogen Hamiltonian, and $\\frac{2}{\\left|{\\mathbf{\\bar{R}}_\\mathrm{A}-\\mathbf{\\bar{R}}_\\mathrm{B}}\\right|}$ is independent of electron coordinate $\\mathbf{\\bar{r}}$, we only need to evaluate \n",
    "\\begin{align}\n",
    " &\\int d^3\\mathbf{\\bar{r}} \\varphi^\\mathrm{A*}_\\mathrm{1s}(\\mathbf{\\bar{r}})   \\left( -\\frac{2}{\\left|\\mathbf{\\bar{r}}-\\mathbf{\\bar{R}}_\\mathrm{B}\\right|}    \\right) \\varphi^\\mathrm{A}_\\mathrm{1s}(\\mathbf{\\bar{r}}) =  \\int d^3\\mathbf{\\bar{r}} \\varphi^\\mathrm{A*}_\\mathrm{1s}(\\mathbf{\\bar{r}})   \\left( -\\frac{2}{ r_\\mathrm{B} }   \\right) \\varphi^\\mathrm{A}_\\mathrm{1s}(\\mathbf{\\bar{r}}) \\\\\n",
    " &= \\int d^3\\mathbf{\\bar{r}} \\left( -\\frac{2}{ r_\\mathrm{B} }   \\right)  \\frac{1}{{\\pi a_0^3}}\\mathrm{exp}\\left(-{2r_\\mathrm{A}}\\right) =  \\int_{-1}^1 d\\eta \\int_1^\\infty d\\zeta \\int_0^{2\\pi} d\\phi  \\frac{D^3}{8}\\left(\\zeta^2-\\eta^2\\right)  \\left( -\\frac{4}{ D(\\zeta-\\eta) }   \\right)  \\frac{1}{{\\pi}}\\mathrm{exp}\\left(-{D(\\zeta+\\eta)}\\right) \\\\\n",
    " &=  -\\frac{2}{D}+\\left(\\frac{2}{D}+{2}\\right)\\mathrm{exp}\\left(-{2D}\\right)\n",
    "\\end{align}\n",
    "\n",
    "Therefore, we obtain\n",
    "\\begin{align}\n",
    " \\mathcal{U} &=\\bar{E}_\\mathrm{1s}+ \\left(\\frac{2}{D}+{2}\\right)\\mathrm{exp}\\left(-{2D}\\right)\n",
    "\\end{align}\n",
    "\n",
    "Finally, we need to evaluate $\\mathcal{\\beta}$\n",
    "\\begin{align}\n",
    "     \\mathcal{\\beta} &= \\int d^3\\mathbf{\\bar{r}} \\varphi^\\mathrm{A*}_\\mathrm{1s}(\\mathbf{\\bar{r}}) \\hat{\\bar{H}}_\\mathrm{ele}  \\varphi^\\mathrm{B}_\\mathrm{1s}(\\mathbf{\\bar{r}}) = \\int d^3\\mathbf{\\bar{r}} \\varphi^\\mathrm{A*}_\\mathrm{1s}(\\mathbf{\\bar{r}})   \\left(-\\frac{\\partial^2}{\\partial \\mathbf{\\bar{r}}^2} + \\frac{2}{\\left|\\mathbf{\\bar{r}}-\\mathbf{\\bar{R}}_\\mathrm{A}\\right|} -\\frac{2}{\\left|\\mathbf{\\bar{r}}-\\mathbf{\\bar{R}}_\\mathrm{B}\\right|}  +\\frac{2}{\\left|{\\mathbf{\\bar{R}}_\\mathrm{A}-\\mathbf{\\bar{R}}_\\mathrm{B}}\\right|}  \\right) \\varphi^\\mathrm{B}_\\mathrm{1s}(\\mathbf{\\bar{r}}) \\\\\n",
    "     &=\\left(\\bar{E}_\\mathrm{1s} + \\frac{2}{D} \\right)\\mathcal{S} +  \\int d^3\\mathbf{\\bar{r}} \\varphi^\\mathrm{A*}_\\mathrm{1s}(\\mathbf{\\bar{r}})   \\left( -\\frac{2}{\\left|\\mathbf{\\bar{r}}-\\mathbf{\\bar{R}}_\\mathrm{A}\\right|}    \\right) \\varphi^\\mathrm{B}_\\mathrm{1s}(\\mathbf{\\bar{r}})\n",
    "\\end{align}\n",
    "Clearly, we need to evaluate \n",
    "\\begin{align}\n",
    "& \\int d^3\\mathbf{\\bar{r}} \\varphi^\\mathrm{A*}_\\mathrm{1s}(\\mathbf{\\bar{r}})   \\left( -\\frac{2}{\\left|\\mathbf{\\bar{r}}-\\mathbf{\\bar{R}}_\\mathrm{A}\\right|}    \\right) \\varphi^\\mathrm{B}_\\mathrm{1s}(\\mathbf{\\bar{r}}) = \\int d^3\\mathbf{\\bar{r}} \\frac{1}{{\\pi}}\\mathrm{exp}(-{r_\\mathrm{A}}) \\left( -\\frac{2}{r_\\mathrm{A}} \\right)  \\mathrm{exp}(-{r_\\mathrm{B}}) \\\\\n",
    "&= \\int_{-1}^1 d\\eta \\int_1^\\infty d\\zeta \\int_0^{2\\pi} d\\phi  \\frac{D^3}{8}\\left(\\zeta^2-\\eta^2\\right)  \\left( -\\frac{4}{ D(\\zeta+\\eta) }   \\right)  \\frac{1}{{\\pi }}\\mathrm{exp}\\left(-\\frac{D(\\zeta+\\eta)}{2}\\right)\\mathrm{exp}\\left(-\\frac{D(\\zeta-\\eta)}{2}\\right) \\\\\n",
    "&=-2\\left(1+D \\right) \\mathrm{exp}\\left( - D \\right)\n",
    "\\end{align}\n",
    "\n",
    "Therefore, we obtain\n",
    "\\begin{align}\n",
    " \\mathcal{\\beta}&=\\left(\\bar{E}_\\mathrm{1s} + \\frac{2}{D} \\right)\\mathcal{S} -2\\left(1+D \\right) \\mathrm{exp}\\left( - D \\right) \\\\ &= \\mathrm{exp}\\left( - D \\right) \\left(\\frac{2}{D} -1 -\\frac{7D}{3} - \\frac{D^2}{3}  \\right)\n",
    "\\end{align}"
   ]
  },
  {
   "cell_type": "code",
   "execution_count": 1,
   "metadata": {},
   "outputs": [
    {
     "data": {
      "text/plain": [
       "Text(0, 0.5, 'Energy (unit: Ry)')"
      ]
     },
     "execution_count": 1,
     "metadata": {},
     "output_type": "execute_result"
    },
    {
     "data": {
      "image/png": "[encoded data removed]",
      "text/plain": [
       "<Figure size 720x432 with 1 Axes>"
      ]
     },
     "metadata": {
      "needs_background": "light"
     },
     "output_type": "display_data"
    }
   ],
   "source": [
    "%matplotlib inline\n",
    "import matplotlib.pyplot as plt\n",
    "import numpy as np\n",
    "from qutip import *\n",
    "#import neccessary packages\n",
    "\n",
    "D = np.linspace(0.4,8,5000) \n",
    "S = np.exp(-D)*(1+D+D*D/3)\n",
    "U = -1 + np.exp(-2*D)*(2+2/D)  \n",
    "beta =  np.exp(-D)*(2/D-1-7*D/3-D*D/3)\n",
    "#beta2 =  (-1+2/D)*S-2*np.exp(-D)*(1+D) \n",
    "\n",
    "fig,axes = plt.subplots(1,1,figsize = (10,6))\n",
    "axes.plot(D,S,label = 'S')\n",
    "axes.plot(D,U,label = 'U')\n",
    "axes.plot(D,beta,label = 'Beta')\n",
    "#axes.plot(D,beta2,label = 'Beta2')\n",
    "\n",
    "axes.legend(loc = 'best')\n",
    "axes.set_xlabel('D (unit: a_0)')\n",
    "axes.set_ylabel('Energy (unit: Ry)')"
   ]
  },
  {
   "cell_type": "markdown",
   "metadata": {},
   "source": [
    "### Evaluation of  $H^+_2$ Molecule in Minimum Basis Set\n",
    "We can reformulate the equation\n",
    "\\begin{align}\n",
    "\\begin{pmatrix}\n",
    "\\frac{1}{1-\\mathcal{S}^2} & -\\frac{\\mathcal{S}}{1-\\mathcal{S}^2}  \\\\\n",
    "-\\frac{\\mathcal{S}}{1-\\mathcal{S}^2} & \\frac{1}{1-\\mathcal{S}^2} \\\\\n",
    "\\end{pmatrix}\n",
    "\\begin{pmatrix}\n",
    "\\mathcal{U} & \\mathcal{\\beta}   \\\\\n",
    "\\mathcal{\\beta}  & \\mathcal{U} \\\\\n",
    "\\end{pmatrix}\n",
    "\\begin{pmatrix}\n",
    "C_\\mathrm{A} \\\\\n",
    "C_\\mathrm{B} \\\\\n",
    "\\end{pmatrix}\n",
    "=\\begin{pmatrix}\n",
    "\\frac{1}{1-\\mathcal{S}^2} & -\\frac{S}{1-\\mathcal{S}^2}  \\\\\n",
    "-\\frac{S}{1-\\mathcal{S}^2} & \\frac{1}{1-\\mathcal{S}^2} \\\\\n",
    "\\end{pmatrix}\\bar{E}\\begin{pmatrix}\n",
    "1 & \\mathcal{S}  \\\\\n",
    "\\mathcal{S} & 1 \\\\\n",
    "\\end{pmatrix}\n",
    "\\begin{pmatrix}\n",
    "C_\\mathrm{A} \\\\\n",
    "C_\\mathrm{B} \\\\\n",
    "\\end{pmatrix}\n",
    "\\end{align}\n",
    "\n",
    "So that we get a standard form\n",
    "\\begin{align}\n",
    "\\begin{pmatrix}\n",
    "\\frac{\\mathcal{U}-\\mathcal{S}\\mathcal{\\beta}}{1-\\mathcal{S}^2} & \\frac{-\\mathcal{S}\\mathcal{U}+\\mathcal{\\beta}}{1-\\mathcal{S}^2}  \\\\\n",
    "\\frac{-\\mathcal{S}\\mathcal{U}+\\mathcal{\\beta}}{1-\\mathcal{S}^2} & \\frac{\\mathcal{U}-\\mathcal{S}\\mathcal{\\beta}}{1-\\mathcal{S}^2} \\\\\n",
    "\\end{pmatrix}\n",
    "\\begin{pmatrix}\n",
    "C_\\mathrm{A} \\\\\n",
    "C_\\mathrm{B} \\\\\n",
    "\\end{pmatrix}\n",
    "=\\bar{E}\n",
    "\\begin{pmatrix}\n",
    "C_\\mathrm{A} \\\\\n",
    "C_\\mathrm{B} \\\\\n",
    "\\end{pmatrix}\n",
    "\\end{align}\n",
    "\n",
    "Clearly, the eigenvalue and eigen-energy of this equation is\n",
    "\\begin{align}\n",
    "    E_\\mathrm{g} &= \\frac{\\mathcal{U}+\\mathcal{\\beta}}{1+\\mathcal{S}} \\\\\n",
    "    \\Psi_\\mathrm{g}(\\mathbf{\\bar{r}}) &= \\frac{1}{\\sqrt{2+2\\mathcal{S}}}\\left(\\varphi^\\mathrm{A}_\\mathrm{1s}(\\mathbf{\\bar{r}}) + \\varphi^\\mathrm{B}_\\mathrm{1s}(\\mathbf{\\bar{r}})\\right) \n",
    "\\end{align}\n",
    "\n",
    "\\begin{align}\n",
    "    E_\\mathrm{u} &= \\frac{\\mathcal{U}-\\mathcal{\\beta}}{1-\\mathcal{S}} \\\\\n",
    "    \\Psi_\\mathrm{u}(\\mathbf{\\bar{r}}) &= \\frac{1}{\\sqrt{2-2\\mathcal{S}}}\\left(\\varphi^\\mathrm{A}_\\mathrm{1s}(\\mathbf{\\bar{r}}) - \\varphi^\\mathrm{B}_\\mathrm{1s}(\\mathbf{\\bar{r}})\\right) \n",
    "\\end{align}\n"
   ]
  },
  {
   "cell_type": "code",
   "execution_count": 2,
   "metadata": {},
   "outputs": [
    {
     "data": {
      "text/plain": [
       "Text(0, 0.5, 'Energy (unit: Ry)')"
      ]
     },
     "execution_count": 2,
     "metadata": {},
     "output_type": "execute_result"
    },
    {
     "data": {
      "image/png": "[encoded data removed]",
      "text/plain": [
       "<Figure size 720x432 with 1 Axes>"
      ]
     },
     "metadata": {
      "needs_background": "light"
     },
     "output_type": "display_data"
    }
   ],
   "source": [
    "Eg=(U+beta)/(1+S)\n",
    "Eu=(U-beta)/(1-S)\n",
    "fig,axes = plt.subplots(1,1,figsize = (10,6))\n",
    "axes.plot(D,Eg,label = 'E_g')\n",
    "axes.plot(D,Eu,label = 'E_u') \n",
    "\n",
    "axes.legend(loc = 'best')\n",
    "axes.set_xlabel('D (unit: a_0)')\n",
    "axes.set_ylabel('Energy (unit: Ry)')"
   ]
  },
  {
   "cell_type": "code",
   "execution_count": 3,
   "metadata": {},
   "outputs": [
    {
     "name": "stdout",
     "output_type": "stream",
     "text": [
      "Bonding Energy -0.1296619599500628 Ry\n",
      "Bonding Length 2.4934586917383474 a_0\n"
     ]
    }
   ],
   "source": [
    "Value=min(Eg)\n",
    "print(\"Bonding Energy\",Value-(-1), \"Ry\")\n",
    "\n",
    "Pos=np.argmin(Eg)\n",
    "print(\"Bonding Length\",D[Pos], \"a_0\")"
   ]
  },
  {
   "cell_type": "code",
   "execution_count": null,
   "metadata": {},
   "outputs": [],
   "source": []
  }
 ],
 "metadata": {
  "kernelspec": {
   "display_name": "Python 3",
   "language": "python",
   "name": "python3"
  },
  "language_info": {
   "codemirror_mode": {
    "name": "ipython",
    "version": 3
   },
   "file_extension": ".py",
   "mimetype": "text/x-python",
   "name": "python",
   "nbconvert_exporter": "python",
   "pygments_lexer": "ipython3",
   "version": "3.8.3"
  }
 },
 "nbformat": 4,
 "nbformat_minor": 4
}
